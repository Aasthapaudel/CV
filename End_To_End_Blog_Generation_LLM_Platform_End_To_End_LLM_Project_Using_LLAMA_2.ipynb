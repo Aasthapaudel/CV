{
  "nbformat": 4,
  "nbformat_minor": 0,
  "metadata": {
    "colab": {
      "provenance": [],
      "authorship_tag": "ABX9TyOlEgwDhhVSNjmRUwnrPl/v",
      "include_colab_link": true
    },
    "kernelspec": {
      "name": "python3",
      "display_name": "Python 3"
    },
    "language_info": {
      "name": "python"
    }
  },
  "cells": [
    {
      "cell_type": "markdown",
      "metadata": {
        "id": "view-in-github",
        "colab_type": "text"
      },
      "source": [
        "<a href=\"https://colab.research.google.com/github/Aasthapaudel/llma-blog-gen-try/blob/main/End_To_End_Blog_Generation_LLM_Platform_End_To_End_LLM_Project_Using_LLAMA_2.ipynb\" target=\"_parent\"><img src=\"https://colab.research.google.com/assets/colab-badge.svg\" alt=\"Open In Colab\"/></a>"
      ]
    },
    {
      "cell_type": "code",
      "source": [
        "%%shell\n",
        "\n",
        "#!/usr/bin/env bash\n",
        "\n",
        "# Copyright (c) Meta Platforms, Inc. and affiliates.\n",
        "# This software may be used and distributed according to the terms of the Llama 2 Community License Agreement.\n",
        "\n",
        "set -e\n",
        "\n",
        "PRESIGNED_URL=\"https://download.llamameta.net/*?Policy=eyJTdGF0ZW1lbnQiOlt7InVuaXF1ZV9oYXNoIjoienZneG16anF1Z2Rxa2c3NDAycmJqZ2U4IiwiUmVzb3VyY2UiOiJodHRwczpcL1wvZG93bmxvYWQubGxhbWFtZXRhLm5ldFwvKiIsIkNvbmRpdGlvbiI6eyJEYXRlTGVzc1RoYW4iOnsiQVdTOkVwb2NoVGltZSI6MTcxNjcxNzAwNX19fV19&Signature=KWJ0Qf4SqLtGxdy87lCYip1x0nUi72szpntn6WutneH9rIm9VHIMjEe6LkNhAHrXj1lgHE2Cxsm66Ezf%7E2dEwWTBrbKSti3GPXj8DnhqlWNeiM%7EG6iayR7MIM2qcsVngmtgOtTXY68s03BGov6GUBTME4JCN2bD%7EjO0ASBnBG3q1APAG9yhkqNJ8f0cs%7EmwQ8A-FrlZulgEa3lFuW3ZiVetoD0hiKaWEwn-9b4hXeDZ5VeOs%7EhlGCSVg%7EQBEhRTxlMCuX1SavDh4lbvxIb%7EYfy9vWzslpxaQsdWvcCBvs4QRSoiGprcv9RUuDAZ7bcuYP%7EvLznOPe%7E1DEAsAgNknBQ__&Key-Pair-Id=K15QRJLYKIFSLZ&Download-Request-ID=1478935189379764\"\n",
        "\n",
        "TARGET_FOLDER=\".\"             # where all files should end up\n",
        "mkdir -p \"${TARGET_FOLDER}\"\n",
        "\n",
        "echo \"Downloading LICENSE and Acceptable Usage Policy\"\n",
        "wget --continue \"${PRESIGNED_URL/'*'/'LICENSE'}\" -O \"${TARGET_FOLDER}/LICENSE\"\n",
        "wget --continue \"${PRESIGNED_URL/'*'/'USE_POLICY.md'}\" -O \"${TARGET_FOLDER}/USE_POLICY.md\"\n",
        "\n",
        "echo \"Downloading tokenizer\"\n",
        "wget --continue \"${PRESIGNED_URL/'*'/'tokenizer.model'}\" -O \"${TARGET_FOLDER}/tokenizer.model\"\n",
        "wget --continue \"${PRESIGNED_URL/'*'/'tokenizer_checklist.chk'}\" -O \"${TARGET_FOLDER}/tokenizer_checklist.chk\"\n",
        "CPU_ARCH=$(uname -m)\n",
        "if [ \"${CPU_ARCH}\" = \"arm64\" ]; then\n",
        "    (cd \"${TARGET_FOLDER}\" && md5sum tokenizer_checklist.chk)\n",
        "else\n",
        "    (cd \"${TARGET_FOLDER}\" && md5sum -c tokenizer_checklist.chk)\n",
        "fi\n",
        "\n",
        "for m in \"7B\" \"7B-chat\"\n",
        "do\n",
        "    if [[ \"${m}\" == \"7B\" ]]; then\n",
        "        SHARD=0\n",
        "        MODEL_PATH=\"llama-2-7b\"\n",
        "    elif [[ \"${m}\" == \"7B-chat\" ]]; then\n",
        "        SHARD=0\n",
        "        MODEL_PATH=\"llama-2-7b-chat\"\n",
        "    fi\n",
        "\n",
        "    echo \"Downloading ${MODEL_PATH}\"\n",
        "    mkdir -p \"${TARGET_FOLDER}/${MODEL_PATH}\"\n",
        "\n",
        "    for s in $(seq -f \"0%g\" 0 \"${SHARD}\")\n",
        "    do\n",
        "        wget --continue \"${PRESIGNED_URL/'*'/\"${MODEL_PATH}/consolidated.${s}.pth\"}\" -O \"${TARGET_FOLDER}/${MODEL_PATH}/consolidated.${s}.pth\"\n",
        "    done\n",
        "\n",
        "    wget --continue \"${PRESIGNED_URL/'*'/\"${MODEL_PATH}/params.json\"}\" -O \"${TARGET_FOLDER}/${MODEL_PATH}/params.json\"\n",
        "    wget --continue \"${PRESIGNED_URL/'*'/\"${MODEL_PATH}/checklist.chk\"}\" -O \"${TARGET_FOLDER}/${MODEL_PATH}/checklist.chk\"\n",
        "    echo \"Checking checksums\"\n",
        "    if [ \"${CPU_ARCH}\" = \"arm64\" ]; then\n",
        "      (cd \"${TARGET_FOLDER}/${MODEL_PATH}\" && md5sum checklist.chk)\n",
        "    else\n",
        "      (cd \"${TARGET_FOLDER}/${MODEL_PATH}\" && md5sum -c checklist.chk)\n",
        "    fi\n",
        "done\n"
      ],
      "metadata": {
        "id": "KJDDna8CMbOY",
        "colab": {
          "base_uri": "https://localhost:8080/"
        },
        "outputId": "0fa0ee32-444b-4225-d0cd-1348267fe4b9"
      },
      "execution_count": 21,
      "outputs": [
        {
          "output_type": "stream",
          "name": "stdout",
          "text": [
            "Downloading LICENSE and Acceptable Usage Policy\n",
            "--2024-05-25 11:46:25--  https://download.llamameta.net/LICENSE?Policy=eyJTdGF0ZW1lbnQiOlt7InVuaXF1ZV9oYXNoIjoienZneG16anF1Z2Rxa2c3NDAycmJqZ2U4IiwiUmVzb3VyY2UiOiJodHRwczpcL1wvZG93bmxvYWQubGxhbWFtZXRhLm5ldFwvKiIsIkNvbmRpdGlvbiI6eyJEYXRlTGVzc1RoYW4iOnsiQVdTOkVwb2NoVGltZSI6MTcxNjcxNzAwNX19fV19&Signature=KWJ0Qf4SqLtGxdy87lCYip1x0nUi72szpntn6WutneH9rIm9VHIMjEe6LkNhAHrXj1lgHE2Cxsm66Ezf%7E2dEwWTBrbKSti3GPXj8DnhqlWNeiM%7EG6iayR7MIM2qcsVngmtgOtTXY68s03BGov6GUBTME4JCN2bD%7EjO0ASBnBG3q1APAG9yhkqNJ8f0cs%7EmwQ8A-FrlZulgEa3lFuW3ZiVetoD0hiKaWEwn-9b4hXeDZ5VeOs%7EhlGCSVg%7EQBEhRTxlMCuX1SavDh4lbvxIb%7EYfy9vWzslpxaQsdWvcCBvs4QRSoiGprcv9RUuDAZ7bcuYP%7EvLznOPe%7E1DEAsAgNknBQ__&Key-Pair-Id=K15QRJLYKIFSLZ&Download-Request-ID=1478935189379764\n",
            "Resolving download.llamameta.net (download.llamameta.net)... 18.238.217.58, 18.238.217.71, 18.238.217.67, ...\n",
            "Connecting to download.llamameta.net (download.llamameta.net)|18.238.217.58|:443... connected.\n",
            "HTTP request sent, awaiting response... 416 Requested Range Not Satisfiable\n",
            "\n",
            "    The file is already fully retrieved; nothing to do.\n",
            "\n",
            "--2024-05-25 11:46:25--  https://download.llamameta.net/USE_POLICY.md?Policy=eyJTdGF0ZW1lbnQiOlt7InVuaXF1ZV9oYXNoIjoienZneG16anF1Z2Rxa2c3NDAycmJqZ2U4IiwiUmVzb3VyY2UiOiJodHRwczpcL1wvZG93bmxvYWQubGxhbWFtZXRhLm5ldFwvKiIsIkNvbmRpdGlvbiI6eyJEYXRlTGVzc1RoYW4iOnsiQVdTOkVwb2NoVGltZSI6MTcxNjcxNzAwNX19fV19&Signature=KWJ0Qf4SqLtGxdy87lCYip1x0nUi72szpntn6WutneH9rIm9VHIMjEe6LkNhAHrXj1lgHE2Cxsm66Ezf%7E2dEwWTBrbKSti3GPXj8DnhqlWNeiM%7EG6iayR7MIM2qcsVngmtgOtTXY68s03BGov6GUBTME4JCN2bD%7EjO0ASBnBG3q1APAG9yhkqNJ8f0cs%7EmwQ8A-FrlZulgEa3lFuW3ZiVetoD0hiKaWEwn-9b4hXeDZ5VeOs%7EhlGCSVg%7EQBEhRTxlMCuX1SavDh4lbvxIb%7EYfy9vWzslpxaQsdWvcCBvs4QRSoiGprcv9RUuDAZ7bcuYP%7EvLznOPe%7E1DEAsAgNknBQ__&Key-Pair-Id=K15QRJLYKIFSLZ&Download-Request-ID=1478935189379764\n",
            "Resolving download.llamameta.net (download.llamameta.net)... 18.238.217.58, 18.238.217.71, 18.238.217.67, ...\n",
            "Connecting to download.llamameta.net (download.llamameta.net)|18.238.217.58|:443... connected.\n",
            "HTTP request sent, awaiting response... 416 Requested Range Not Satisfiable\n",
            "\n",
            "    The file is already fully retrieved; nothing to do.\n",
            "\n",
            "Downloading tokenizer\n",
            "--2024-05-25 11:46:25--  https://download.llamameta.net/tokenizer.model?Policy=eyJTdGF0ZW1lbnQiOlt7InVuaXF1ZV9oYXNoIjoienZneG16anF1Z2Rxa2c3NDAycmJqZ2U4IiwiUmVzb3VyY2UiOiJodHRwczpcL1wvZG93bmxvYWQubGxhbWFtZXRhLm5ldFwvKiIsIkNvbmRpdGlvbiI6eyJEYXRlTGVzc1RoYW4iOnsiQVdTOkVwb2NoVGltZSI6MTcxNjcxNzAwNX19fV19&Signature=KWJ0Qf4SqLtGxdy87lCYip1x0nUi72szpntn6WutneH9rIm9VHIMjEe6LkNhAHrXj1lgHE2Cxsm66Ezf%7E2dEwWTBrbKSti3GPXj8DnhqlWNeiM%7EG6iayR7MIM2qcsVngmtgOtTXY68s03BGov6GUBTME4JCN2bD%7EjO0ASBnBG3q1APAG9yhkqNJ8f0cs%7EmwQ8A-FrlZulgEa3lFuW3ZiVetoD0hiKaWEwn-9b4hXeDZ5VeOs%7EhlGCSVg%7EQBEhRTxlMCuX1SavDh4lbvxIb%7EYfy9vWzslpxaQsdWvcCBvs4QRSoiGprcv9RUuDAZ7bcuYP%7EvLznOPe%7E1DEAsAgNknBQ__&Key-Pair-Id=K15QRJLYKIFSLZ&Download-Request-ID=1478935189379764\n",
            "Resolving download.llamameta.net (download.llamameta.net)... 18.238.217.58, 18.238.217.71, 18.238.217.67, ...\n",
            "Connecting to download.llamameta.net (download.llamameta.net)|18.238.217.58|:443... connected.\n",
            "HTTP request sent, awaiting response... 416 Requested Range Not Satisfiable\n",
            "\n",
            "    The file is already fully retrieved; nothing to do.\n",
            "\n",
            "--2024-05-25 11:46:25--  https://download.llamameta.net/tokenizer_checklist.chk?Policy=eyJTdGF0ZW1lbnQiOlt7InVuaXF1ZV9oYXNoIjoienZneG16anF1Z2Rxa2c3NDAycmJqZ2U4IiwiUmVzb3VyY2UiOiJodHRwczpcL1wvZG93bmxvYWQubGxhbWFtZXRhLm5ldFwvKiIsIkNvbmRpdGlvbiI6eyJEYXRlTGVzc1RoYW4iOnsiQVdTOkVwb2NoVGltZSI6MTcxNjcxNzAwNX19fV19&Signature=KWJ0Qf4SqLtGxdy87lCYip1x0nUi72szpntn6WutneH9rIm9VHIMjEe6LkNhAHrXj1lgHE2Cxsm66Ezf%7E2dEwWTBrbKSti3GPXj8DnhqlWNeiM%7EG6iayR7MIM2qcsVngmtgOtTXY68s03BGov6GUBTME4JCN2bD%7EjO0ASBnBG3q1APAG9yhkqNJ8f0cs%7EmwQ8A-FrlZulgEa3lFuW3ZiVetoD0hiKaWEwn-9b4hXeDZ5VeOs%7EhlGCSVg%7EQBEhRTxlMCuX1SavDh4lbvxIb%7EYfy9vWzslpxaQsdWvcCBvs4QRSoiGprcv9RUuDAZ7bcuYP%7EvLznOPe%7E1DEAsAgNknBQ__&Key-Pair-Id=K15QRJLYKIFSLZ&Download-Request-ID=1478935189379764\n",
            "Resolving download.llamameta.net (download.llamameta.net)... 18.238.217.58, 18.238.217.71, 18.238.217.67, ...\n",
            "Connecting to download.llamameta.net (download.llamameta.net)|18.238.217.58|:443... connected.\n",
            "HTTP request sent, awaiting response... 416 Requested Range Not Satisfiable\n",
            "\n",
            "    The file is already fully retrieved; nothing to do.\n",
            "\n",
            "tokenizer.model: OK\n",
            "Downloading llama-2-7b\n",
            "--2024-05-25 11:46:25--  https://download.llamameta.net/llama-2-7b/consolidated.00.pth?Policy=eyJTdGF0ZW1lbnQiOlt7InVuaXF1ZV9oYXNoIjoienZneG16anF1Z2Rxa2c3NDAycmJqZ2U4IiwiUmVzb3VyY2UiOiJodHRwczpcL1wvZG93bmxvYWQubGxhbWFtZXRhLm5ldFwvKiIsIkNvbmRpdGlvbiI6eyJEYXRlTGVzc1RoYW4iOnsiQVdTOkVwb2NoVGltZSI6MTcxNjcxNzAwNX19fV19&Signature=KWJ0Qf4SqLtGxdy87lCYip1x0nUi72szpntn6WutneH9rIm9VHIMjEe6LkNhAHrXj1lgHE2Cxsm66Ezf%7E2dEwWTBrbKSti3GPXj8DnhqlWNeiM%7EG6iayR7MIM2qcsVngmtgOtTXY68s03BGov6GUBTME4JCN2bD%7EjO0ASBnBG3q1APAG9yhkqNJ8f0cs%7EmwQ8A-FrlZulgEa3lFuW3ZiVetoD0hiKaWEwn-9b4hXeDZ5VeOs%7EhlGCSVg%7EQBEhRTxlMCuX1SavDh4lbvxIb%7EYfy9vWzslpxaQsdWvcCBvs4QRSoiGprcv9RUuDAZ7bcuYP%7EvLznOPe%7E1DEAsAgNknBQ__&Key-Pair-Id=K15QRJLYKIFSLZ&Download-Request-ID=1478935189379764\n",
            "Resolving download.llamameta.net (download.llamameta.net)... 18.238.217.58, 18.238.217.71, 18.238.217.67, ...\n",
            "Connecting to download.llamameta.net (download.llamameta.net)|18.238.217.58|:443... connected.\n",
            "HTTP request sent, awaiting response... 416 Requested Range Not Satisfiable\n",
            "\n",
            "    The file is already fully retrieved; nothing to do.\n",
            "\n",
            "--2024-05-25 11:46:26--  https://download.llamameta.net/llama-2-7b/params.json?Policy=eyJTdGF0ZW1lbnQiOlt7InVuaXF1ZV9oYXNoIjoienZneG16anF1Z2Rxa2c3NDAycmJqZ2U4IiwiUmVzb3VyY2UiOiJodHRwczpcL1wvZG93bmxvYWQubGxhbWFtZXRhLm5ldFwvKiIsIkNvbmRpdGlvbiI6eyJEYXRlTGVzc1RoYW4iOnsiQVdTOkVwb2NoVGltZSI6MTcxNjcxNzAwNX19fV19&Signature=KWJ0Qf4SqLtGxdy87lCYip1x0nUi72szpntn6WutneH9rIm9VHIMjEe6LkNhAHrXj1lgHE2Cxsm66Ezf%7E2dEwWTBrbKSti3GPXj8DnhqlWNeiM%7EG6iayR7MIM2qcsVngmtgOtTXY68s03BGov6GUBTME4JCN2bD%7EjO0ASBnBG3q1APAG9yhkqNJ8f0cs%7EmwQ8A-FrlZulgEa3lFuW3ZiVetoD0hiKaWEwn-9b4hXeDZ5VeOs%7EhlGCSVg%7EQBEhRTxlMCuX1SavDh4lbvxIb%7EYfy9vWzslpxaQsdWvcCBvs4QRSoiGprcv9RUuDAZ7bcuYP%7EvLznOPe%7E1DEAsAgNknBQ__&Key-Pair-Id=K15QRJLYKIFSLZ&Download-Request-ID=1478935189379764\n",
            "Resolving download.llamameta.net (download.llamameta.net)... 18.238.217.58, 18.238.217.71, 18.238.217.67, ...\n",
            "Connecting to download.llamameta.net (download.llamameta.net)|18.238.217.58|:443... connected.\n",
            "HTTP request sent, awaiting response... 416 Requested Range Not Satisfiable\n",
            "\n",
            "    The file is already fully retrieved; nothing to do.\n",
            "\n",
            "--2024-05-25 11:46:26--  https://download.llamameta.net/llama-2-7b/checklist.chk?Policy=eyJTdGF0ZW1lbnQiOlt7InVuaXF1ZV9oYXNoIjoienZneG16anF1Z2Rxa2c3NDAycmJqZ2U4IiwiUmVzb3VyY2UiOiJodHRwczpcL1wvZG93bmxvYWQubGxhbWFtZXRhLm5ldFwvKiIsIkNvbmRpdGlvbiI6eyJEYXRlTGVzc1RoYW4iOnsiQVdTOkVwb2NoVGltZSI6MTcxNjcxNzAwNX19fV19&Signature=KWJ0Qf4SqLtGxdy87lCYip1x0nUi72szpntn6WutneH9rIm9VHIMjEe6LkNhAHrXj1lgHE2Cxsm66Ezf%7E2dEwWTBrbKSti3GPXj8DnhqlWNeiM%7EG6iayR7MIM2qcsVngmtgOtTXY68s03BGov6GUBTME4JCN2bD%7EjO0ASBnBG3q1APAG9yhkqNJ8f0cs%7EmwQ8A-FrlZulgEa3lFuW3ZiVetoD0hiKaWEwn-9b4hXeDZ5VeOs%7EhlGCSVg%7EQBEhRTxlMCuX1SavDh4lbvxIb%7EYfy9vWzslpxaQsdWvcCBvs4QRSoiGprcv9RUuDAZ7bcuYP%7EvLznOPe%7E1DEAsAgNknBQ__&Key-Pair-Id=K15QRJLYKIFSLZ&Download-Request-ID=1478935189379764\n",
            "Resolving download.llamameta.net (download.llamameta.net)... 18.238.217.58, 18.238.217.71, 18.238.217.67, ...\n",
            "Connecting to download.llamameta.net (download.llamameta.net)|18.238.217.58|:443... connected.\n",
            "HTTP request sent, awaiting response... 416 Requested Range Not Satisfiable\n",
            "\n",
            "    The file is already fully retrieved; nothing to do.\n",
            "\n",
            "Checking checksums\n",
            "consolidated.00.pth: OK\n",
            "params.json: OK\n",
            "Downloading llama-2-7b-chat\n",
            "--2024-05-25 11:47:43--  https://download.llamameta.net/llama-2-7b-chat/consolidated.00.pth?Policy=eyJTdGF0ZW1lbnQiOlt7InVuaXF1ZV9oYXNoIjoienZneG16anF1Z2Rxa2c3NDAycmJqZ2U4IiwiUmVzb3VyY2UiOiJodHRwczpcL1wvZG93bmxvYWQubGxhbWFtZXRhLm5ldFwvKiIsIkNvbmRpdGlvbiI6eyJEYXRlTGVzc1RoYW4iOnsiQVdTOkVwb2NoVGltZSI6MTcxNjcxNzAwNX19fV19&Signature=KWJ0Qf4SqLtGxdy87lCYip1x0nUi72szpntn6WutneH9rIm9VHIMjEe6LkNhAHrXj1lgHE2Cxsm66Ezf%7E2dEwWTBrbKSti3GPXj8DnhqlWNeiM%7EG6iayR7MIM2qcsVngmtgOtTXY68s03BGov6GUBTME4JCN2bD%7EjO0ASBnBG3q1APAG9yhkqNJ8f0cs%7EmwQ8A-FrlZulgEa3lFuW3ZiVetoD0hiKaWEwn-9b4hXeDZ5VeOs%7EhlGCSVg%7EQBEhRTxlMCuX1SavDh4lbvxIb%7EYfy9vWzslpxaQsdWvcCBvs4QRSoiGprcv9RUuDAZ7bcuYP%7EvLznOPe%7E1DEAsAgNknBQ__&Key-Pair-Id=K15QRJLYKIFSLZ&Download-Request-ID=1478935189379764\n",
            "Resolving download.llamameta.net (download.llamameta.net)... 18.238.217.67, 18.238.217.58, 18.238.217.94, ...\n",
            "Connecting to download.llamameta.net (download.llamameta.net)|18.238.217.67|:443... connected.\n",
            "HTTP request sent, awaiting response... 416 Requested Range Not Satisfiable\n",
            "\n",
            "    The file is already fully retrieved; nothing to do.\n",
            "\n",
            "--2024-05-25 11:47:43--  https://download.llamameta.net/llama-2-7b-chat/params.json?Policy=eyJTdGF0ZW1lbnQiOlt7InVuaXF1ZV9oYXNoIjoienZneG16anF1Z2Rxa2c3NDAycmJqZ2U4IiwiUmVzb3VyY2UiOiJodHRwczpcL1wvZG93bmxvYWQubGxhbWFtZXRhLm5ldFwvKiIsIkNvbmRpdGlvbiI6eyJEYXRlTGVzc1RoYW4iOnsiQVdTOkVwb2NoVGltZSI6MTcxNjcxNzAwNX19fV19&Signature=KWJ0Qf4SqLtGxdy87lCYip1x0nUi72szpntn6WutneH9rIm9VHIMjEe6LkNhAHrXj1lgHE2Cxsm66Ezf%7E2dEwWTBrbKSti3GPXj8DnhqlWNeiM%7EG6iayR7MIM2qcsVngmtgOtTXY68s03BGov6GUBTME4JCN2bD%7EjO0ASBnBG3q1APAG9yhkqNJ8f0cs%7EmwQ8A-FrlZulgEa3lFuW3ZiVetoD0hiKaWEwn-9b4hXeDZ5VeOs%7EhlGCSVg%7EQBEhRTxlMCuX1SavDh4lbvxIb%7EYfy9vWzslpxaQsdWvcCBvs4QRSoiGprcv9RUuDAZ7bcuYP%7EvLznOPe%7E1DEAsAgNknBQ__&Key-Pair-Id=K15QRJLYKIFSLZ&Download-Request-ID=1478935189379764\n",
            "Resolving download.llamameta.net (download.llamameta.net)... 18.238.217.67, 18.238.217.58, 18.238.217.94, ...\n",
            "Connecting to download.llamameta.net (download.llamameta.net)|18.238.217.67|:443... connected.\n",
            "HTTP request sent, awaiting response... 416 Requested Range Not Satisfiable\n",
            "\n",
            "    The file is already fully retrieved; nothing to do.\n",
            "\n",
            "--2024-05-25 11:47:43--  https://download.llamameta.net/llama-2-7b-chat/checklist.chk?Policy=eyJTdGF0ZW1lbnQiOlt7InVuaXF1ZV9oYXNoIjoienZneG16anF1Z2Rxa2c3NDAycmJqZ2U4IiwiUmVzb3VyY2UiOiJodHRwczpcL1wvZG93bmxvYWQubGxhbWFtZXRhLm5ldFwvKiIsIkNvbmRpdGlvbiI6eyJEYXRlTGVzc1RoYW4iOnsiQVdTOkVwb2NoVGltZSI6MTcxNjcxNzAwNX19fV19&Signature=KWJ0Qf4SqLtGxdy87lCYip1x0nUi72szpntn6WutneH9rIm9VHIMjEe6LkNhAHrXj1lgHE2Cxsm66Ezf%7E2dEwWTBrbKSti3GPXj8DnhqlWNeiM%7EG6iayR7MIM2qcsVngmtgOtTXY68s03BGov6GUBTME4JCN2bD%7EjO0ASBnBG3q1APAG9yhkqNJ8f0cs%7EmwQ8A-FrlZulgEa3lFuW3ZiVetoD0hiKaWEwn-9b4hXeDZ5VeOs%7EhlGCSVg%7EQBEhRTxlMCuX1SavDh4lbvxIb%7EYfy9vWzslpxaQsdWvcCBvs4QRSoiGprcv9RUuDAZ7bcuYP%7EvLznOPe%7E1DEAsAgNknBQ__&Key-Pair-Id=K15QRJLYKIFSLZ&Download-Request-ID=1478935189379764\n",
            "Resolving download.llamameta.net (download.llamameta.net)... 18.238.217.67, 18.238.217.58, 18.238.217.94, ...\n",
            "Connecting to download.llamameta.net (download.llamameta.net)|18.238.217.67|:443... connected.\n",
            "HTTP request sent, awaiting response... 416 Requested Range Not Satisfiable\n",
            "\n",
            "    The file is already fully retrieved; nothing to do.\n",
            "\n",
            "Checking checksums\n",
            "consolidated.00.pth: OK\n",
            "params.json: OK\n"
          ]
        },
        {
          "output_type": "execute_result",
          "data": {
            "text/plain": []
          },
          "metadata": {},
          "execution_count": 21
        }
      ]
    },
    {
      "cell_type": "code",
      "source": [
        "!pip install sentence-transformers\n",
        "!pip install uvicorn\n",
        "!pip install ctransformers\n",
        "!pip install langchain\n",
        "!pip install python-box\n",
        "!pip install streamlit\n"
      ],
      "metadata": {
        "id": "Ml3IrI6HSDT5"
      },
      "execution_count": null,
      "outputs": []
    },
    {
      "cell_type": "code",
      "source": [
        "!pip install streamlit\n",
        "!pip install pyngrok\n"
      ],
      "metadata": {
        "id": "2eJjcSaWSsoJ"
      },
      "execution_count": null,
      "outputs": []
    },
    {
      "cell_type": "code",
      "source": [
        "!pip install langchain\n"
      ],
      "metadata": {
        "id": "w_4nzHKDW8ej"
      },
      "execution_count": null,
      "outputs": []
    },
    {
      "cell_type": "code",
      "source": [
        "pip install langchain_community"
      ],
      "metadata": {
        "id": "Ybk-ce_KXU81"
      },
      "execution_count": null,
      "outputs": []
    },
    {
      "cell_type": "code",
      "source": [
        "from langchain.llms import CTransformers\n"
      ],
      "metadata": {
        "id": "2NpMmIEhXdHT"
      },
      "execution_count": null,
      "outputs": []
    },
    {
      "cell_type": "code",
      "source": [
        "import streamlit as st\n",
        "from langchain.prompts import PromptTemplate\n",
        "from langchain.llms import CTransformers\n",
        "\n",
        "## Function To get response from LLAma 2 model\n",
        "\n",
        "def getLLamaresponse(input_text,no_words,blog_style):\n",
        "\n",
        "    ### LLama2 model\n",
        "    llm=CTransformers(model='models/llama-2-7b-chat.ggmlv3.q8_0.bin',\n",
        "                      model_type='llama',\n",
        "                      config={'max_new_tokens':256,\n",
        "                              'temperature':0.01})\n",
        "\n",
        "    ## Prompt Template\n",
        "\n",
        "    template=\"\"\"\n",
        "        Write a blog for {blog_style} job profile for a topic {input_text}\n",
        "        within {no_words} words.\n",
        "            \"\"\"\n",
        "\n",
        "    prompt=PromptTemplate(input_variables=[\"blog_style\",\"input_text\",'no_words'],\n",
        "                          template=template)\n",
        "\n",
        "    ## Generate the response from the LLama 2 model\n",
        "    response=llm(prompt.format(blog_style=blog_style,input_text=input_text,no_words=no_words))\n",
        "    print(response)\n",
        "    return response\n",
        "\n",
        "st.set_page_config(page_title=\"Generate Blogs\",\n",
        "                    page_icon='🤖',\n",
        "                    layout='centered',\n",
        "                    initial_sidebar_state='collapsed')\n",
        "\n",
        "st.header(\"Generate Blogs 🤖\")\n",
        "\n",
        "input_text=st.text_input(\"Enter the Blog Topic\")\n",
        "\n",
        "## creating two more columns for additional 2 fields\n",
        "\n",
        "col1,col2=st.columns([5,5])\n",
        "\n",
        "with col1:\n",
        "    no_words=st.text_input('No of Words')\n",
        "with col2:\n",
        "    blog_style=st.selectbox('Writing the blog for',\n",
        "                            ('Researchers','Data Scientist','Common People'),index=0)\n",
        "\n",
        "submit=st.button(\"Generate\")\n",
        "\n",
        "## Final response\n",
        "if submit:\n",
        "    st.write(getLLamaresponse(input_text,no_words,blog_style))\n"
      ],
      "metadata": {
        "id": "BADDmG4DXjW8"
      },
      "execution_count": null,
      "outputs": []
    },
    {
      "cell_type": "code",
      "source": [
        "!streamlit run /usr/local/lib/python3.10/dist-packages/colab_kernel_launcher.py\n"
      ],
      "metadata": {
        "id": "wX96Zmq4YLK0",
        "colab": {
          "base_uri": "https://localhost:8080/"
        },
        "outputId": "3d085334-be4b-4123-c84f-49ea4d4bc2cb"
      },
      "execution_count": 22,
      "outputs": [
        {
          "output_type": "stream",
          "name": "stdout",
          "text": [
            "\n",
            "Collecting usage statistics. To deactivate, set browser.gatherUsageStats to false.\n",
            "\u001b[0m\n",
            "\u001b[0m\n",
            "\u001b[34m\u001b[1m  You can now view your Streamlit app in your browser.\u001b[0m\n",
            "\u001b[0m\n",
            "\u001b[34m  Local URL: \u001b[0m\u001b[1mhttp://localhost:8501\u001b[0m\n",
            "\u001b[34m  Network URL: \u001b[0m\u001b[1mhttp://172.28.0.12:8501\u001b[0m\n",
            "\u001b[34m  External URL: \u001b[0m\u001b[1mhttp://34.83.123.184:8501\u001b[0m\n",
            "\u001b[0m\n",
            "\u001b[34m  Stopping...\u001b[0m\n",
            "\u001b[34m  Stopping...\u001b[0m\n"
          ]
        }
      ]
    }
  ]
}